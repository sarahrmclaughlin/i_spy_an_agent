{
 "cells": [
  {
   "cell_type": "code",
   "execution_count": 1,
   "id": "71585be6",
   "metadata": {},
   "outputs": [],
   "source": [
    "import os\n",
    "from openai import OpenAI\n",
    "from dotenv import load_dotenv"
   ]
  },
  {
   "cell_type": "code",
   "execution_count": 2,
   "id": "a3476445",
   "metadata": {},
   "outputs": [
    {
     "data": {
      "text/plain": [
       "True"
      ]
     },
     "execution_count": 2,
     "metadata": {},
     "output_type": "execute_result"
    }
   ],
   "source": [
    "load_dotenv()"
   ]
  },
  {
   "cell_type": "markdown",
   "id": "074ee8af",
   "metadata": {},
   "source": [
    "### Make sure API key is working, but not displayed"
   ]
  },
  {
   "cell_type": "code",
   "execution_count": 3,
   "id": "4bc85e4e",
   "metadata": {},
   "outputs": [
    {
     "name": "stdout",
     "output_type": "stream",
     "text": [
      "API Key loaded successfully.\n",
      "API Key Length: 164 characters\n",
      "API Key: sk-p\n"
     ]
    }
   ],
   "source": [
    "api_key = os.getenv(\"OPENAI_API_KEY\")\n",
    "if api_key:\n",
    "    print(\"API Key loaded successfully.\")\n",
    "    print(f\"API Key Length: {len(api_key)} characters\")\n",
    "    print(f\"API Key: {api_key[:4]}\")  \n",
    "else:\n",
    "    print(\"Failed to load Open API Key.\")\n"
   ]
  },
  {
   "cell_type": "markdown",
   "id": "b61bb420",
   "metadata": {},
   "source": [
    "### Connect to OpenAI"
   ]
  },
  {
   "cell_type": "code",
   "execution_count": 4,
   "id": "c53e2647",
   "metadata": {},
   "outputs": [],
   "source": [
    "client = OpenAI(\n",
    "    base_url=\"https://api.openai.com/v1\",\n",
    "    api_key=os.getenv(\"OPENAI_API_KEY\"),\n",
    ")"
   ]
  },
  {
   "cell_type": "markdown",
   "id": "659015fc",
   "metadata": {},
   "source": [
    "#### Add OpenAI model \n",
    "- Be mindful of cost $$$"
   ]
  },
  {
   "cell_type": "code",
   "execution_count": 5,
   "id": "6ecd93de",
   "metadata": {},
   "outputs": [],
   "source": [
    "\n",
    "# model_name = \"gpt-4o\"\n",
    "# Use a cheaper model since I am paying for this.\n",
    "model_name = \"gpt-4o-mini\""
   ]
  },
  {
   "cell_type": "markdown",
   "id": "88b41025",
   "metadata": {},
   "source": [
    "### Creating the Agent Prompts"
   ]
  },
  {
   "cell_type": "code",
   "execution_count": 8,
   "id": "7a7ade66",
   "metadata": {},
   "outputs": [
    {
     "name": "stdout",
     "output_type": "stream",
     "text": [
      "French: La bicyclette !  \n",
      "Italian: La bicicletta !\n"
     ]
    }
   ],
   "source": [
    "response = client.chat.completions.create(\n",
    "    model=model_name,\n",
    "    messages=[\n",
    "        {\"role\": \"system\", \"content\": \"You are a Language Translation assistant. You will translate any English text I provide into French and Italian with corresponding articles \"\n",
    "        \"\"},\n",
    "        {\"role\": \"user\", \"content\": \"Bicycle!\"},\n",
    "    ],\n",
    ")\n",
    "print(response.choices[0].message.content)"
   ]
  },
  {
   "cell_type": "code",
   "execution_count": null,
   "id": "fa1385f6",
   "metadata": {},
   "outputs": [],
   "source": []
  }
 ],
 "metadata": {
  "kernelspec": {
   "display_name": "venv (3.9.6)",
   "language": "python",
   "name": "python3"
  },
  "language_info": {
   "codemirror_mode": {
    "name": "ipython",
    "version": 3
   },
   "file_extension": ".py",
   "mimetype": "text/x-python",
   "name": "python",
   "nbconvert_exporter": "python",
   "pygments_lexer": "ipython3",
   "version": "3.9.6"
  }
 },
 "nbformat": 4,
 "nbformat_minor": 5
}

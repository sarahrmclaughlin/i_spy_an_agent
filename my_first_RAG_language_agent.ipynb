{
 "cells": [
  {
   "cell_type": "code",
   "execution_count": 1,
   "id": "71585be6",
   "metadata": {},
   "outputs": [
    {
     "name": "stderr",
     "output_type": "stream",
     "text": [
      "/Users/sarahrmclaughlin/Documents/repos/i_spy_an_agent/venv/lib/python3.9/site-packages/urllib3/__init__.py:35: NotOpenSSLWarning: urllib3 v2 only supports OpenSSL 1.1.1+, currently the 'ssl' module is compiled with 'LibreSSL 2.8.3'. See: https://github.com/urllib3/urllib3/issues/3020\n",
      "  warnings.warn(\n"
     ]
    },
    {
     "ename": "ImportError",
     "evalue": "cannot import name 'update_kb' from 'src.knowledge_base' (/Users/sarahrmclaughlin/Documents/repos/i_spy_an_agent/src/knowledge_base.py)",
     "output_type": "error",
     "traceback": [
      "\u001b[0;31m---------------------------------------------------------------------------\u001b[0m",
      "\u001b[0;31mImportError\u001b[0m                               Traceback (most recent call last)",
      "Cell \u001b[0;32mIn[1], line 9\u001b[0m\n\u001b[1;32m      5\u001b[0m \u001b[38;5;66;03m# from src.knowledge_base import TranslationKB\u001b[39;00m\n\u001b[1;32m      6\u001b[0m \n\u001b[1;32m      7\u001b[0m \u001b[38;5;66;03m# from src.knowledge_base import update_kb\u001b[39;00m\n\u001b[1;32m      8\u001b[0m \u001b[38;5;28;01mfrom\u001b[39;00m\u001b[38;5;250m \u001b[39m\u001b[38;5;21;01msrc\u001b[39;00m\u001b[38;5;21;01m.\u001b[39;00m\u001b[38;5;21;01mindex_manager\u001b[39;00m\u001b[38;5;250m \u001b[39m\u001b[38;5;28;01mimport\u001b[39;00m build_or_load_chat_engine, rebuild_index\n\u001b[0;32m----> 9\u001b[0m \u001b[38;5;28;01mfrom\u001b[39;00m\u001b[38;5;250m \u001b[39m\u001b[38;5;21;01msrc\u001b[39;00m\u001b[38;5;21;01m.\u001b[39;00m\u001b[38;5;21;01mrag_chat\u001b[39;00m\u001b[38;5;250m \u001b[39m\u001b[38;5;28;01mimport\u001b[39;00m rag_chat, rag_chat_pipeline\n\u001b[1;32m     10\u001b[0m \u001b[38;5;28;01mfrom\u001b[39;00m\u001b[38;5;250m \u001b[39m\u001b[38;5;21;01msrc\u001b[39;00m\u001b[38;5;21;01m.\u001b[39;00m\u001b[38;5;21;01mllm_fallback\u001b[39;00m\u001b[38;5;250m \u001b[39m\u001b[38;5;28;01mimport\u001b[39;00m llm_fallback\n\u001b[1;32m     11\u001b[0m \u001b[38;5;28;01mfrom\u001b[39;00m\u001b[38;5;250m \u001b[39m\u001b[38;5;21;01msrc\u001b[39;00m\u001b[38;5;21;01m.\u001b[39;00m\u001b[38;5;21;01mprompt_builder\u001b[39;00m\u001b[38;5;250m \u001b[39m\u001b[38;5;28;01mimport\u001b[39;00m build_prompt\n",
      "File \u001b[0;32m~/Documents/repos/i_spy_an_agent/src/rag_chat.py:3\u001b[0m\n\u001b[1;32m      1\u001b[0m \u001b[38;5;28;01mfrom\u001b[39;00m\u001b[38;5;250m \u001b[39m\u001b[38;5;21;01msrc\u001b[39;00m\u001b[38;5;21;01m.\u001b[39;00m\u001b[38;5;21;01mindex_manager\u001b[39;00m\u001b[38;5;250m \u001b[39m\u001b[38;5;28;01mimport\u001b[39;00m build_or_load_chat_engine, rebuild_index\n\u001b[1;32m      2\u001b[0m \u001b[38;5;28;01mfrom\u001b[39;00m\u001b[38;5;250m \u001b[39m\u001b[38;5;21;01msrc\u001b[39;00m\u001b[38;5;21;01m.\u001b[39;00m\u001b[38;5;21;01mllm_fallback\u001b[39;00m\u001b[38;5;250m \u001b[39m\u001b[38;5;28;01mimport\u001b[39;00m llm_fallback\n\u001b[0;32m----> 3\u001b[0m \u001b[38;5;28;01mfrom\u001b[39;00m\u001b[38;5;250m \u001b[39m\u001b[38;5;21;01msrc\u001b[39;00m\u001b[38;5;21;01m.\u001b[39;00m\u001b[38;5;21;01mknowledge_base\u001b[39;00m\u001b[38;5;250m \u001b[39m\u001b[38;5;28;01mimport\u001b[39;00m update_kb\n\u001b[1;32m      5\u001b[0m \u001b[38;5;66;03m# Create chat engine (load or build)\u001b[39;00m\n\u001b[1;32m      6\u001b[0m chat_engine \u001b[38;5;241m=\u001b[39m build_or_load_chat_engine()\n",
      "\u001b[0;31mImportError\u001b[0m: cannot import name 'update_kb' from 'src.knowledge_base' (/Users/sarahrmclaughlin/Documents/repos/i_spy_an_agent/src/knowledge_base.py)"
     ]
    }
   ],
   "source": [
    "import sys\n",
    "import os\n",
    "from openai import OpenAI\n",
    "from dotenv import load_dotenv\n",
    "# from src.knowledge_base import TranslationKB\n",
    "\n",
    "# from src.knowledge_base import update_kb\n",
    "from src.index_manager import build_or_load_chat_engine, rebuild_index\n",
    "from src.rag_chat import rag_chat, rag_chat_pipeline\n",
    "from src.llm_fallback import llm_fallback\n",
    "from src.prompt_builder import build_prompt"
   ]
  },
  {
   "cell_type": "code",
   "execution_count": null,
   "id": "a3476445",
   "metadata": {},
   "outputs": [],
   "source": [
    "load_dotenv()"
   ]
  },
  {
   "cell_type": "markdown",
   "id": "074ee8af",
   "metadata": {},
   "source": [
    "### Make sure API key is working, but not displayed"
   ]
  },
  {
   "cell_type": "code",
   "execution_count": null,
   "id": "4bc85e4e",
   "metadata": {},
   "outputs": [],
   "source": [
    "api_key = os.getenv(\"OPENAI_API_KEY\")\n",
    "if api_key:\n",
    "    print(\"API Key loaded successfully.\")\n",
    "    print(f\"API Key Length: {len(api_key)} characters\")\n",
    "    print(f\"API Key: {api_key[:4]}\")  \n",
    "else:\n",
    "    print(\"Failed to load Open API Key.\")\n"
   ]
  },
  {
   "cell_type": "markdown",
   "id": "b61bb420",
   "metadata": {},
   "source": [
    "### Connect to OpenAI"
   ]
  },
  {
   "cell_type": "code",
   "execution_count": null,
   "id": "c53e2647",
   "metadata": {},
   "outputs": [],
   "source": [
    "client = OpenAI(\n",
    "    base_url=\"https://api.openai.com/v1\",\n",
    "    api_key=os.getenv(\"OPENAI_API_KEY\"),\n",
    ")"
   ]
  },
  {
   "cell_type": "code",
   "execution_count": null,
   "id": "aee22649",
   "metadata": {},
   "outputs": [],
   "source": [
    "\n",
    "\n",
    "def main():\n",
    "    if len(sys.argv) < 2:\n",
    "        print(\"Usage: python src/app.py 'Translate <word>'\")\n",
    "        sys.exit(1)\n",
    "\n",
    "    query = \" \".join(sys.argv[1:])\n",
    "\n",
    "    # Load chat engine (vector index)\n",
    "    chat_engine = build_or_load_chat_engine()\n",
    "\n",
    "    # Run pipeline (RAG → fallback → KB update → rebuild index)\n",
    "    response = rag_chat_pipeline(query, chat_engine)\n",
    "\n",
    "    # Print results\n",
    "    print(\"\\n=== Language RAG Project ===\")\n",
    "    print(f\"Query:   {query}\")\n",
    "    print(f\"Answer:  {response}\")\n",
    "\n",
    "\n",
    "if __name__ == \"__main__\":\n",
    "    main()"
   ]
  },
  {
   "cell_type": "code",
   "execution_count": null,
   "id": "dcf9697b",
   "metadata": {},
   "outputs": [],
   "source": []
  }
 ],
 "metadata": {
  "kernelspec": {
   "display_name": "venv (3.9.6)",
   "language": "python",
   "name": "python3"
  },
  "language_info": {
   "codemirror_mode": {
    "name": "ipython",
    "version": 3
   },
   "file_extension": ".py",
   "mimetype": "text/x-python",
   "name": "python",
   "nbconvert_exporter": "python",
   "pygments_lexer": "ipython3",
   "version": "3.9.6"
  }
 },
 "nbformat": 4,
 "nbformat_minor": 5
}

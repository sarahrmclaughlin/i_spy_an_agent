{
 "cells": [
  {
   "cell_type": "code",
   "execution_count": 1,
   "id": "71585be6",
   "metadata": {},
   "outputs": [],
   "source": [
    "import os\n",
    "from openai import OpenAI\n",
    "from dotenv import load_dotenv\n",
    "from src.knowledge_base import TranslationKB"
   ]
  },
  {
   "cell_type": "code",
   "execution_count": 2,
   "id": "a3476445",
   "metadata": {},
   "outputs": [
    {
     "data": {
      "text/plain": [
       "True"
      ]
     },
     "execution_count": 2,
     "metadata": {},
     "output_type": "execute_result"
    }
   ],
   "source": [
    "load_dotenv()"
   ]
  },
  {
   "cell_type": "markdown",
   "id": "074ee8af",
   "metadata": {},
   "source": [
    "### Make sure API key is working, but not displayed"
   ]
  },
  {
   "cell_type": "code",
   "execution_count": 3,
   "id": "4bc85e4e",
   "metadata": {},
   "outputs": [
    {
     "name": "stdout",
     "output_type": "stream",
     "text": [
      "API Key loaded successfully.\n",
      "API Key Length: 164 characters\n",
      "API Key: sk-p\n"
     ]
    }
   ],
   "source": [
    "api_key = os.getenv(\"OPENAI_API_KEY\")\n",
    "if api_key:\n",
    "    print(\"API Key loaded successfully.\")\n",
    "    print(f\"API Key Length: {len(api_key)} characters\")\n",
    "    print(f\"API Key: {api_key[:4]}\")  \n",
    "else:\n",
    "    print(\"Failed to load Open API Key.\")\n"
   ]
  },
  {
   "cell_type": "markdown",
   "id": "b61bb420",
   "metadata": {},
   "source": [
    "### Connect to OpenAI"
   ]
  },
  {
   "cell_type": "code",
   "execution_count": 4,
   "id": "c53e2647",
   "metadata": {},
   "outputs": [],
   "source": [
    "client = OpenAI(\n",
    "    base_url=\"https://api.openai.com/v1\",\n",
    "    api_key=os.getenv(\"OPENAI_API_KEY\"),\n",
    ")"
   ]
  },
  {
   "cell_type": "markdown",
   "id": "659015fc",
   "metadata": {},
   "source": [
    "#### Add OpenAI model \n",
    "- Be mindful of cost $$$"
   ]
  },
  {
   "cell_type": "code",
   "execution_count": 5,
   "id": "6ecd93de",
   "metadata": {},
   "outputs": [],
   "source": [
    "\n",
    "# model_name = \"gpt-4o\"\n",
    "# Use a cheaper model since I am paying for this.\n",
    "model_name = \"gpt-4o-mini\""
   ]
  },
  {
   "cell_type": "markdown",
   "id": "88b41025",
   "metadata": {},
   "source": [
    "### Creating the Agent Prompts"
   ]
  },
  {
   "cell_type": "code",
   "execution_count": 6,
   "id": "7a7ade66",
   "metadata": {},
   "outputs": [
    {
     "name": "stdout",
     "output_type": "stream",
     "text": [
      "French: Le vélo !  \n",
      "Italian: La bicicletta !\n"
     ]
    }
   ],
   "source": [
    "response = client.chat.completions.create(\n",
    "    model=model_name,\n",
    "    messages=[\n",
    "        {\"role\": \"system\", \"content\": \"You are a Language Translation assistant. You will translate any English text I provide into French and Italian with corresponding articles \"\n",
    "        \"\"},\n",
    "        {\"role\": \"user\", \"content\": \"Bicycle!\"},\n",
    "    ],\n",
    ")\n",
    "print(response.choices[0].message.content)"
   ]
  },
  {
   "cell_type": "markdown",
   "id": "fafbdf93",
   "metadata": {},
   "source": [
    "#### Add in Knowledge Base and RAG\n",
    "- Take a query word and embed as a vector\n",
    "- Using FAISS, search for closest vector (nearest neighbord) within the index\n",
    "- Using KB, returns--> closest word and distance.\n",
    "    - Distance <0.5 is good match and > 0.8 low match"
   ]
  },
  {
   "cell_type": "code",
   "execution_count": 7,
   "id": "7a240dd5",
   "metadata": {},
   "outputs": [
    {
     "name": "stderr",
     "output_type": "stream",
     "text": [
      "/Users/sarahrmclaughlin/Documents/repos/i_spy_an_agent/venv/lib/python3.9/site-packages/urllib3/__init__.py:35: NotOpenSSLWarning: urllib3 v2 only supports OpenSSL 1.1.1+, currently the 'ssl' module is compiled with 'LibreSSL 2.8.3'. See: https://github.com/urllib3/urllib3/issues/3020\n",
      "  warnings.warn(\n",
      "/Users/sarahrmclaughlin/Documents/repos/i_spy_an_agent/venv/lib/python3.9/site-packages/tqdm/auto.py:21: TqdmWarning: IProgress not found. Please update jupyter and ipywidgets. See https://ipywidgets.readthedocs.io/en/stable/user_install.html\n",
      "  from .autonotebook import tqdm as notebook_tqdm\n"
     ]
    }
   ],
   "source": [
    "from src.embeddings import (\n",
    "    build_faiss_index,\n",
    "    save_faiss_index,\n",
    "    load_faiss_index,\n",
    "    search_faiss,\n",
    ")"
   ]
  },
  {
   "cell_type": "code",
   "execution_count": 8,
   "id": "35cda0cc",
   "metadata": {},
   "outputs": [
    {
     "name": "stdout",
     "output_type": "stream",
     "text": [
      "['table', 'chair', 'bank', 'car']\n"
     ]
    }
   ],
   "source": [
    "index, words = build_faiss_index()\n",
    "print(words)"
   ]
  },
  {
   "cell_type": "code",
   "execution_count": 9,
   "id": "d51bde3b",
   "metadata": {},
   "outputs": [
    {
     "name": "stdout",
     "output_type": "stream",
     "text": [
      "bank 1.5032156\n"
     ]
    }
   ],
   "source": [
    "word, dist = search_faiss(\"baynk\", index, words)\n",
    "print(word, dist)"
   ]
  },
  {
   "cell_type": "code",
   "execution_count": 10,
   "id": "4292a216",
   "metadata": {},
   "outputs": [
    {
     "name": "stdout",
     "output_type": "stream",
     "text": [
      "table 1.0421065\n"
     ]
    }
   ],
   "source": [
    "word, dist = search_faiss(\"tabel\", index, words)\n",
    "print(word, dist)"
   ]
  },
  {
   "cell_type": "code",
   "execution_count": 11,
   "id": "4a1775f2",
   "metadata": {},
   "outputs": [
    {
     "name": "stdout",
     "output_type": "stream",
     "text": [
      "table 0.55901253\n"
     ]
    }
   ],
   "source": [
    "word, dist = search_faiss(\"tablee\", index, words)\n",
    "print(word, dist)"
   ]
  },
  {
   "cell_type": "code",
   "execution_count": 12,
   "id": "037428b3",
   "metadata": {},
   "outputs": [
    {
     "name": "stdout",
     "output_type": "stream",
     "text": [
      "chair 0.0\n"
     ]
    }
   ],
   "source": [
    "word, dist = search_faiss(\"chair\", index, words)\n",
    "print(word, dist)"
   ]
  },
  {
   "cell_type": "code",
   "execution_count": null,
   "id": "aee22649",
   "metadata": {},
   "outputs": [],
   "source": []
  }
 ],
 "metadata": {
  "kernelspec": {
   "display_name": "venv (3.9.6)",
   "language": "python",
   "name": "python3"
  },
  "language_info": {
   "codemirror_mode": {
    "name": "ipython",
    "version": 3
   },
   "file_extension": ".py",
   "mimetype": "text/x-python",
   "name": "python",
   "nbconvert_exporter": "python",
   "pygments_lexer": "ipython3",
   "version": "3.9.6"
  }
 },
 "nbformat": 4,
 "nbformat_minor": 5
}
